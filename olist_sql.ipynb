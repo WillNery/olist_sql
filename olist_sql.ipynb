{
 "cells": [
  {
   "cell_type": "markdown",
   "id": "6ab5d9ff",
   "metadata": {},
   "source": [
    "# 0.0 Imports"
   ]
  },
  {
   "cell_type": "code",
   "execution_count": 3,
   "id": "1b2c2dfa",
   "metadata": {
    "ExecuteTime": {
     "end_time": "2022-02-15T20:33:45.622907Z",
     "start_time": "2022-02-15T20:33:45.062853Z"
    }
   },
   "outputs": [],
   "source": [
    "import pandas as pd\n",
    "from sqlalchemy import create_engine"
   ]
  },
  {
   "cell_type": "code",
   "execution_count": null,
   "id": "4d22b17b",
   "metadata": {},
   "outputs": [],
   "source": []
  },
  {
   "cell_type": "markdown",
   "id": "93d3b3c8",
   "metadata": {
    "ExecuteTime": {
     "end_time": "2022-02-15T20:25:02.515602Z",
     "start_time": "2022-02-15T20:25:02.509618Z"
    }
   },
   "source": [
    "# 1.0 Questões de Negócio"
   ]
  },
  {
   "cell_type": "markdown",
   "id": "b33bc0b5",
   "metadata": {},
   "source": [
    "## Perguntas\n",
    "\n",
    "01. Quantos pedidos foram feitos para cada tipo de pagamento?\n",
    "02. Qual o número máximo e mínimo de parcelas nos pagamentos?\n",
    "03. Quais são os top 10 pedidos com os maiores valores?\n",
    "04. Quais são os últimos 10 pedidos com os menores valores?\n",
    "05. Qual a média do valor de pagamento por tipo de pagamento?\n",
    "06. Quais os top 5 clientes com os maiores valores de pagamento no boleto?\n",
    "07. Quais os top 5 clientes com os maiores valores de pagamento no cartão de crédito?\n",
    "08. Quais os 10 produtos mais caros?\n",
    "09. Quais os 10 produtos mais baratos?\n",
    "10. Quais as 10 categorias mais compradas?\n",
    "11. Quais os 5 produtos com maior número de reviews?\n",
    "12. Quais os top 10 produtos sem nenhum review?\n",
    "13. Quais os 10 clientes com maior quantidade de pedidos?\n",
    "14. Quais os 10 clientes com a menor quantidade de pedidos?\n",
    "15. Quais vendedores existem na base?\n",
    "16. Qual a distribuição de vendedores por estado?\n",
    "17. Qual a distribuição de clientes por estado?\n",
    "18. Quais são os top 10 vendedores que mais receberam pagamentos por boleto?\n",
    "19. Quais são os 10 piores vendedores em termos de número de vendas?\n",
    "20. Quantos produtos são comprados, em média, por pedido?"
   ]
  },
  {
   "cell_type": "code",
   "execution_count": null,
   "id": "c26d6ad2",
   "metadata": {},
   "outputs": [],
   "source": []
  },
  {
   "cell_type": "code",
   "execution_count": null,
   "id": "79307a3f",
   "metadata": {},
   "outputs": [],
   "source": []
  },
  {
   "cell_type": "markdown",
   "id": "8d767b77",
   "metadata": {},
   "source": [
    "# 2.0 Coleta dos Dados"
   ]
  },
  {
   "cell_type": "code",
   "execution_count": 4,
   "id": "39dad108",
   "metadata": {
    "ExecuteTime": {
     "end_time": "2022-02-15T20:33:51.718170Z",
     "start_time": "2022-02-15T20:33:51.694979Z"
    }
   },
   "outputs": [],
   "source": [
    "db = create_engine( 'sqlite:///db_olist.sqlite', echo=False )\n",
    "conn = db.connect()"
   ]
  },
  {
   "cell_type": "code",
   "execution_count": 5,
   "id": "f98e376e",
   "metadata": {
    "ExecuteTime": {
     "end_time": "2022-02-15T20:33:53.625515Z",
     "start_time": "2022-02-15T20:33:52.880097Z"
    }
   },
   "outputs": [
    {
     "data": {
      "text/plain": [
       "99441"
      ]
     },
     "execution_count": 5,
     "metadata": {},
     "output_type": "execute_result"
    }
   ],
   "source": [
    "# dataset\n",
    "df_customer = pd.read_csv( 'olist_customers_dataset.csv' )\n",
    "schema_customer = \"\"\"\n",
    "CREATE TABLE customer(\n",
    "customer_id TEXT,\n",
    "customer_unique_id TEXT,\n",
    "customer_zip_code_prefix INTEGER,\n",
    "customer_city TEXT,\n",
    "customer_state TEXT\n",
    ")\n",
    "\"\"\"\n",
    "# crate schema\n",
    "#conn.execute( schema_customer )\n",
    "# insert data into table\n",
    "df_customer.to_sql( 'customer', con=conn, if_exists='append', index=False )"
   ]
  },
  {
   "cell_type": "code",
   "execution_count": 8,
   "id": "e92882df",
   "metadata": {
    "ExecuteTime": {
     "end_time": "2022-02-15T20:34:49.298510Z",
     "start_time": "2022-02-15T20:34:43.367895Z"
    }
   },
   "outputs": [
    {
     "data": {
      "text/plain": [
       "1000163"
      ]
     },
     "execution_count": 8,
     "metadata": {},
     "output_type": "execute_result"
    }
   ],
   "source": [
    "# dataset\n",
    "df_geolocation = pd.read_csv( 'olist_geolocation_dataset.csv' )\n",
    "schema_geolocation = \"\"\"\n",
    "CREATE TABLE geolocation(\n",
    "geolocation_zip_code_prefix INTEGER,\n",
    "geolocation_lat REAL,\n",
    "geolocation_lng REAL,\n",
    "geolocation_city TEXT,\n",
    "geolocation_state TEXT\n",
    ")\n",
    "\"\"\"\n",
    "# crate schema\n",
    "conn.execute( schema_geolocation )\n",
    "# insert data into table\n",
    "df_geolocation.to_sql( 'geolocation', con=conn, if_exists='append', index=False)"
   ]
  },
  {
   "cell_type": "code",
   "execution_count": 11,
   "id": "586b27f7",
   "metadata": {
    "ExecuteTime": {
     "end_time": "2022-02-15T20:39:16.500912Z",
     "start_time": "2022-02-15T20:39:15.440113Z"
    }
   },
   "outputs": [
    {
     "data": {
      "text/plain": [
       "112650"
      ]
     },
     "execution_count": 11,
     "metadata": {},
     "output_type": "execute_result"
    }
   ],
   "source": [
    "# dataset\n",
    "df_order_items = pd.read_csv( 'olist_order_items_dataset.csv' )\n",
    "schema_order_items = \"\"\"\n",
    "CREATE TABLE order_items(\n",
    "order_id TEXT,\n",
    "order_item_id INTEGER,\n",
    "product_id TEXT,\n",
    "seller_id TEXT,\n",
    "shipping_limit_date TEXT,\n",
    "price REAL,\n",
    "freight_value REAL\n",
    ")\n",
    "\"\"\"\n",
    "# crate schema\n",
    "#conn.execute( schema_order_items )\n",
    "# insert data into table\n",
    "df_order_items.to_sql( 'order_items', con=conn, if_exists='append', index=False)"
   ]
  },
  {
   "cell_type": "code",
   "execution_count": 12,
   "id": "01052509",
   "metadata": {
    "ExecuteTime": {
     "end_time": "2022-02-15T20:39:22.626845Z",
     "start_time": "2022-02-15T20:39:21.943378Z"
    }
   },
   "outputs": [
    {
     "data": {
      "text/plain": [
       "103886"
      ]
     },
     "execution_count": 12,
     "metadata": {},
     "output_type": "execute_result"
    }
   ],
   "source": [
    "# dataset\n",
    "df_order_payments = pd.read_csv( 'olist_order_payments_dataset.csv' )\n",
    "schema_order_payments = \"\"\"\n",
    "CREATE TABLE order_payments(\n",
    "order_id TEXT,\n",
    "payment_sequential INTEGER,\n",
    "payment_type TEXT,\n",
    "payment_installments INTEGER,\n",
    "payment_value REAL\n",
    ")\n",
    "\"\"\"\n",
    "# crate schema\n",
    "#conn.execute( schema_order_payments )\n",
    "# insert data into table\n",
    "df_order_payments.to_sql( 'order_payments', con=conn, if_exists='append'\n",
    ",index=False )"
   ]
  },
  {
   "cell_type": "code",
   "execution_count": 13,
   "id": "7c3b9a89",
   "metadata": {
    "ExecuteTime": {
     "end_time": "2022-02-15T20:39:27.859796Z",
     "start_time": "2022-02-15T20:39:26.799072Z"
    }
   },
   "outputs": [
    {
     "data": {
      "text/plain": [
       "99224"
      ]
     },
     "execution_count": 13,
     "metadata": {},
     "output_type": "execute_result"
    }
   ],
   "source": [
    "# dataset\n",
    "df_order_reviews = pd.read_csv( 'olist_order_reviews_dataset.csv' )\n",
    "schema_order_reviews = \"\"\"\n",
    "CREATE TABLE order_reviews(\n",
    "review_id TEXT,\n",
    "order_id TEXT,\n",
    "review_score INTEGER,\n",
    "review_comment_title TEXT,\n",
    "review_comment_message TEXT,\n",
    "review_creation_date TEXT,\n",
    "review_answer_timestamp TEXT\n",
    ")\n",
    "\"\"\"\n",
    "# crate schema\n",
    "#conn.execute( schema_order_reviews )\n",
    "# insert data into table\n",
    "df_order_reviews.to_sql( 'order_reviews', con=conn, if_exists='append',\n",
    "index=False )"
   ]
  },
  {
   "cell_type": "code",
   "execution_count": 14,
   "id": "0be02fa6",
   "metadata": {
    "ExecuteTime": {
     "end_time": "2022-02-15T20:39:31.940541Z",
     "start_time": "2022-02-15T20:39:30.776033Z"
    }
   },
   "outputs": [
    {
     "data": {
      "text/plain": [
       "99441"
      ]
     },
     "execution_count": 14,
     "metadata": {},
     "output_type": "execute_result"
    }
   ],
   "source": [
    "# dataset\n",
    "df_orders = pd.read_csv( 'olist_orders_dataset.csv' )\n",
    "schema_orders = \"\"\"\n",
    "CREATE TABLE orders(\n",
    "order_id TEXT,\n",
    "customer_id TEXT,\n",
    "order_status TEXT,\n",
    "order_purchase_timestamp TEXT,\n",
    "order_approved_at TEXT,\n",
    "order_delivered_carrier_date TEXT,\n",
    "order_delivered_customer_date TEXT,\n",
    "order_estimated_delivery_date TEXT\n",
    ")\n",
    "\"\"\"\n",
    "# crate schema\n",
    "#conn.execute( schema_orders )\n",
    "# insert data into table\n",
    "df_orders.to_sql( 'orders', con=conn, if_exists='append', index=False )"
   ]
  },
  {
   "cell_type": "code",
   "execution_count": 15,
   "id": "60975de6",
   "metadata": {
    "ExecuteTime": {
     "end_time": "2022-02-15T20:39:35.641132Z",
     "start_time": "2022-02-15T20:39:35.310571Z"
    }
   },
   "outputs": [
    {
     "data": {
      "text/plain": [
       "32951"
      ]
     },
     "execution_count": 15,
     "metadata": {},
     "output_type": "execute_result"
    }
   ],
   "source": [
    "# dataset\n",
    "df_products = pd.read_csv( 'olist_products_dataset.csv' )\n",
    "schema_products = \"\"\"\n",
    "CREATE TABLE products(\n",
    "product_id TEXT,\n",
    "product_category_name TEXT,\n",
    "product_name_lenght REAL,\n",
    "product_description_lenght REAL,\n",
    "product_photos_qty REAL,\n",
    "product_weight_g REAL,\n",
    "product_length_cm REAL,\n",
    "product_height_cm REAL,\n",
    "product_width_cm REAL\n",
    ")\n",
    "\"\"\"\n",
    "# crate schema\n",
    "#conn.execute( schema_products )\n",
    "# insert data into table\n",
    "df_products.to_sql( 'products', con=conn, if_exists='append', index=False )"
   ]
  },
  {
   "cell_type": "code",
   "execution_count": 16,
   "id": "83454a65",
   "metadata": {
    "ExecuteTime": {
     "end_time": "2022-02-15T20:39:38.654609Z",
     "start_time": "2022-02-15T20:39:38.614836Z"
    }
   },
   "outputs": [
    {
     "data": {
      "text/plain": [
       "3095"
      ]
     },
     "execution_count": 16,
     "metadata": {},
     "output_type": "execute_result"
    }
   ],
   "source": [
    "# dataset\n",
    "df_sellers = pd.read_csv( 'olist_sellers_dataset.csv' )\n",
    "schema_sellers = \"\"\"\n",
    "CREATE TABLE sellers(\n",
    "seller_id TEXT,\n",
    "seller_zip_code_prefix INTEGER,\n",
    "seller_city TEXT,\n",
    "seller_state TEXT\n",
    ")\n",
    "\"\"\"\n",
    "# crate schema\n",
    "#conn.execute( schema_sellers )\n",
    "# insert data into table\n",
    "df_sellers.to_sql( 'sellers', con=conn, if_exists='append', index=False )"
   ]
  },
  {
   "cell_type": "code",
   "execution_count": 17,
   "id": "8633264d",
   "metadata": {
    "ExecuteTime": {
     "end_time": "2022-02-15T20:39:41.734790Z",
     "start_time": "2022-02-15T20:39:41.703110Z"
    }
   },
   "outputs": [
    {
     "data": {
      "text/plain": [
       "71"
      ]
     },
     "execution_count": 17,
     "metadata": {},
     "output_type": "execute_result"
    }
   ],
   "source": [
    "# dataset\n",
    "df_product_category_name = pd.read_csv( 'product_category_name_translation.csv' )\n",
    "schema_product_category_name = \"\"\"\n",
    "CREATE TABLE product_category_name(\n",
    "product_category_name TEXT,\n",
    "product_category_name_english TEXT\n",
    ")\n",
    "\"\"\"\n",
    "# crate schema\n",
    "#conn.execute( schema_product_category_name )\n",
    "# insert data into table\n",
    "df_product_category_name.to_sql( 'product_category_name', con=conn,\n",
    "if_exists='append', index=False )"
   ]
  },
  {
   "cell_type": "code",
   "execution_count": 18,
   "id": "799a02ac",
   "metadata": {
    "ExecuteTime": {
     "end_time": "2022-02-15T20:39:44.977179Z",
     "start_time": "2022-02-15T20:39:44.967233Z"
    }
   },
   "outputs": [
    {
     "data": {
      "text/html": [
       "<div>\n",
       "<style scoped>\n",
       "    .dataframe tbody tr th:only-of-type {\n",
       "        vertical-align: middle;\n",
       "    }\n",
       "\n",
       "    .dataframe tbody tr th {\n",
       "        vertical-align: top;\n",
       "    }\n",
       "\n",
       "    .dataframe thead th {\n",
       "        text-align: right;\n",
       "    }\n",
       "</style>\n",
       "<table border=\"1\" class=\"dataframe\">\n",
       "  <thead>\n",
       "    <tr style=\"text-align: right;\">\n",
       "      <th></th>\n",
       "      <th>name</th>\n",
       "    </tr>\n",
       "  </thead>\n",
       "  <tbody>\n",
       "    <tr>\n",
       "      <th>0</th>\n",
       "      <td>customer</td>\n",
       "    </tr>\n",
       "    <tr>\n",
       "      <th>1</th>\n",
       "      <td>order_items</td>\n",
       "    </tr>\n",
       "    <tr>\n",
       "      <th>2</th>\n",
       "      <td>order_payments</td>\n",
       "    </tr>\n",
       "    <tr>\n",
       "      <th>3</th>\n",
       "      <td>order_reviews</td>\n",
       "    </tr>\n",
       "    <tr>\n",
       "      <th>4</th>\n",
       "      <td>orders</td>\n",
       "    </tr>\n",
       "    <tr>\n",
       "      <th>5</th>\n",
       "      <td>products</td>\n",
       "    </tr>\n",
       "    <tr>\n",
       "      <th>6</th>\n",
       "      <td>sellers</td>\n",
       "    </tr>\n",
       "    <tr>\n",
       "      <th>7</th>\n",
       "      <td>product_category_name</td>\n",
       "    </tr>\n",
       "    <tr>\n",
       "      <th>8</th>\n",
       "      <td>geolocation</td>\n",
       "    </tr>\n",
       "  </tbody>\n",
       "</table>\n",
       "</div>"
      ],
      "text/plain": [
       "                    name\n",
       "0               customer\n",
       "1            order_items\n",
       "2         order_payments\n",
       "3          order_reviews\n",
       "4                 orders\n",
       "5               products\n",
       "6                sellers\n",
       "7  product_category_name\n",
       "8            geolocation"
      ]
     },
     "execution_count": 18,
     "metadata": {},
     "output_type": "execute_result"
    }
   ],
   "source": [
    "query = \"\"\"\n",
    "SELECT name\n",
    "FROM sqlite_master\n",
    "WHERE type = 'table'\n",
    "\"\"\"\n",
    "#query = \"\"\"\n",
    "# SELECT *\n",
    "# FROM customer\n",
    "#\"\"\"\n",
    "table = pd.read_sql_query( query, conn )\n",
    "table"
   ]
  },
  {
   "cell_type": "markdown",
   "id": "8aa81a7a",
   "metadata": {},
   "source": [
    "# 3. Exploração dos Dados"
   ]
  },
  {
   "cell_type": "markdown",
   "id": "c2220ca3",
   "metadata": {
    "heading_collapsed": true
   },
   "source": [
    "## 4. Quais são os últimos 10 pedidos com os menores valores?"
   ]
  },
  {
   "cell_type": "markdown",
   "id": "53b561a0",
   "metadata": {
    "hidden": true
   },
   "source": [
    "\n",
    "-- selecionando os ultimos pedidos\n",
    "\n",
    "select\n",
    "\n",
    "    order_id,\n",
    "    order_purchase_timestamp as ultimos_pedidos\n",
    "\n",
    "from \n",
    "\n",
    "    orders \n",
    "\n",
    "limit(10)\n",
    "\n",
    "-- selecionando os menores valores\n",
    "\n",
    "select \n",
    "\n",
    "    order_id,\n",
    "\tpayment_value\t\n",
    "\n",
    "from \n",
    "    \n",
    "    order_payments op \n",
    "\n",
    "group by payment_value \n",
    "\n",
    "order by payment_value ASC "
   ]
  },
  {
   "cell_type": "markdown",
   "id": "e12e1590",
   "metadata": {
    "heading_collapsed": true
   },
   "source": [
    "## 5. Qual a média do valor de pagamento por tipo de pagamento?"
   ]
  },
  {
   "cell_type": "markdown",
   "id": "70eeabba",
   "metadata": {
    "hidden": true
   },
   "source": [
    "\n",
    "\n",
    "\n",
    "-- tipos de pagamento\n",
    "\n",
    "select \n",
    "\n",
    "    payment_type,\n",
    "    AVG( payment_value)\n",
    "\n",
    "from\n",
    "\n",
    "    order_pAyments op \n",
    "\n",
    "group by payment_type"
   ]
  },
  {
   "cell_type": "markdown",
   "id": "bed5da8e",
   "metadata": {
    "heading_collapsed": true
   },
   "source": [
    "## 6. Quais os top 5 clientes com os maiores valores de pagamento no boleto?"
   ]
  },
  {
   "cell_type": "markdown",
   "id": "0b445cf0",
   "metadata": {
    "hidden": true
   },
   "source": [
    "select \n",
    "\n",
    "    o.order_id,\n",
    "    payment_type,\n",
    "    payment_value as maiores_valores,\n",
    "    c.customer_id\n",
    "\n",
    "\n",
    "from \n",
    "\n",
    "    orders o inner join customer c on (o.customer_id = c.customer_id)\n",
    "\t\t\t  inner join order_payments op on (o.order_id = op.order_id)\n",
    "\n",
    "where payment_type = 'boleto'\n",
    "\n",
    "group by payment_value\n",
    "\n",
    "order by payment_value DESC "
   ]
  },
  {
   "cell_type": "markdown",
   "id": "206a77f9",
   "metadata": {
    "heading_collapsed": true
   },
   "source": [
    "## 7.Quais os top 5 clientes com os maiores valores de pagamento no cartão de crédito?"
   ]
  },
  {
   "cell_type": "markdown",
   "id": "07ff04cd",
   "metadata": {
    "hidden": true
   },
   "source": [
    "select \n",
    "\n",
    "    o.order_id,\n",
    "    payment_type,\n",
    "    payment_value as maiores_valores,\n",
    "    c.customer_id\n",
    "\n",
    "\n",
    "from \n",
    "\n",
    "    orders o inner join customer c on (o.customer_id = c.customer_id)\n",
    "\t\t\t  inner join order_payments op on (o.order_id = op.order_id)\n",
    "\n",
    "where payment_type = 'credit_card'\n",
    "\n",
    "group by payment_value\n",
    "\n",
    "order by payment_value DESC \n",
    "limit(5)"
   ]
  },
  {
   "cell_type": "markdown",
   "id": "34be06ec",
   "metadata": {
    "heading_collapsed": true
   },
   "source": [
    "## 8. Quais os 10 produtos mais caros?"
   ]
  },
  {
   "cell_type": "markdown",
   "id": "89966c35",
   "metadata": {
    "hidden": true
   },
   "source": [
    "select\n",
    "\n",
    "    product_id,\n",
    "\tprice\n",
    "\t\t\n",
    "from \n",
    "    \n",
    "    order_items oi \n",
    "\n",
    "group by price\n",
    "\n",
    "order by price DESC\n",
    "\n",
    "limit(10)"
   ]
  },
  {
   "cell_type": "markdown",
   "id": "7fa1ff71",
   "metadata": {
    "heading_collapsed": true
   },
   "source": [
    "## 9.Quais os 10 produtos mais baratos?"
   ]
  },
  {
   "cell_type": "markdown",
   "id": "277a82a6",
   "metadata": {
    "hidden": true
   },
   "source": [
    "select\n",
    "\n",
    "    product_id,\n",
    "\tprice\n",
    "\t\t\n",
    "from \n",
    "\n",
    "    order_items oi \n",
    "\n",
    "group by price\n",
    "\n",
    "order by price ASC \n",
    "\n",
    "limit(10)"
   ]
  },
  {
   "cell_type": "markdown",
   "id": "76d357be",
   "metadata": {
    "heading_collapsed": true
   },
   "source": [
    "## 10.Quais as 10 categorias mais compradas?"
   ]
  },
  {
   "cell_type": "markdown",
   "id": "8c0bce28",
   "metadata": {
    "hidden": true
   },
   "source": [
    "select \n",
    "\n",
    "\t\tproduct_category_name,\n",
    "\t\toi.product_id,\n",
    "\t\tcount(product_category_name) as QTD_vendida\n",
    "\n",
    "\n",
    "from \n",
    "\n",
    "    order_items oi inner join products p on (oi.product_id = p.product_id)\n",
    "\n",
    "group by product_category_name\n",
    "\n",
    "order BY QTD_vendida DESC \n",
    "\n",
    "limit(10)"
   ]
  },
  {
   "cell_type": "markdown",
   "id": "3df19b86",
   "metadata": {
    "heading_collapsed": true
   },
   "source": [
    "## 11.Quais os 5 produtos com maior número de reviews?"
   ]
  },
  {
   "cell_type": "markdown",
   "id": "bb8a21ae",
   "metadata": {
    "hidden": true
   },
   "source": [
    "select \n",
    "\n",
    "    oi.order_id,\n",
    "\tproduct_id,\n",
    "\treview_id,\n",
    "\treview_score,\n",
    "\treview_comment_title,\n",
    "\treview_comment_message,\n",
    "\tcount(product_id) as contagem_produtos \n",
    "\n",
    "from \n",
    "\n",
    "    order_items oi left join order_reviews or2 on (oi.order_id = or2.order_id)\n",
    "\n",
    "where review_comment_message IS NOT NULL\n",
    "\n",
    "group by product_id \n",
    "\n",
    "order by contagem_produtos DESC "
   ]
  },
  {
   "cell_type": "markdown",
   "id": "e4f0b0f3",
   "metadata": {
    "heading_collapsed": true
   },
   "source": [
    "## 12.Quais os top 10 produtos sem nenhum review?"
   ]
  },
  {
   "cell_type": "markdown",
   "id": "03db7231",
   "metadata": {
    "hidden": true
   },
   "source": [
    "select \n",
    "\n",
    "    oi.order_id,\n",
    "\tproduct_id,\n",
    "\treview_id,\n",
    "\treview_score,\n",
    "\treview_comment_title,\n",
    "\treview_comment_message,\n",
    "\tcount(product_id) as contagem_produtos \n",
    "\n",
    "from \n",
    "\n",
    "    order_items oi left join order_reviews or2 on (oi.order_id = or2.order_id)\n",
    "\n",
    "where review_comment_message IS NULL\n",
    "\n",
    "group by product_id \n",
    "\n",
    "order by contagem_produtos DESC \n",
    "\n",
    "limit(10"
   ]
  },
  {
   "cell_type": "markdown",
   "id": "87534362",
   "metadata": {
    "heading_collapsed": true
   },
   "source": [
    "## 13.Quais os 10 clientes com maior quantidade de pedidos?"
   ]
  },
  {
   "cell_type": "markdown",
   "id": "dae9d806",
   "metadata": {
    "hidden": true
   },
   "source": [
    "select  \n",
    "\n",
    "    order_id,\n",
    "\tcustomer_unique_id,\n",
    "\tcount(order_id)  as qtd_pedidos\n",
    "\t\t\n",
    "\n",
    "FROM \n",
    "\n",
    "    orders o left join customer c on (o.customer_id = c.customer_id)\n",
    "\n",
    "group by customer_unique_id\n",
    "\n",
    "order by qtd_pedidos DESC"
   ]
  },
  {
   "cell_type": "markdown",
   "id": "b6893168",
   "metadata": {
    "heading_collapsed": true
   },
   "source": [
    "## 14.Quais os 10 clientes com a menor quantidade de pedidos? "
   ]
  },
  {
   "cell_type": "markdown",
   "id": "7a29549a",
   "metadata": {
    "hidden": true
   },
   "source": [
    "select \n",
    "\n",
    "    order_id,\n",
    "\tcustomer_unique_id,\n",
    "\tcount(order_id)  as qtd_pedidos\n",
    "\t\t\n",
    "\n",
    "FROM \n",
    "\n",
    "    orders o left join customer c on (o.customer_id = c.customer_id)\n",
    "\n",
    "group by customer_unique_id\n",
    "\n",
    "order by qtd_pedidos ASC "
   ]
  },
  {
   "cell_type": "markdown",
   "id": "9ce150d2",
   "metadata": {
    "heading_collapsed": true
   },
   "source": [
    "## 15.Quais vendedores existem na base? "
   ]
  },
  {
   "cell_type": "markdown",
   "id": "f1166b40",
   "metadata": {
    "hidden": true
   },
   "source": [
    "select   \n",
    "\n",
    "\t\tcount(DISTINCT (seller_zip_code_prefix)) \n",
    "\t\t\t\t\n",
    "from \n",
    "    \n",
    "    sellers s"
   ]
  },
  {
   "cell_type": "markdown",
   "id": "3d4e54b5",
   "metadata": {
    "hidden": true
   },
   "source": []
  },
  {
   "cell_type": "markdown",
   "id": "ab67d380",
   "metadata": {
    "hidden": true
   },
   "source": []
  },
  {
   "cell_type": "markdown",
   "id": "0643a6d3",
   "metadata": {
    "hidden": true
   },
   "source": []
  },
  {
   "cell_type": "markdown",
   "id": "f9710411",
   "metadata": {
    "hidden": true
   },
   "source": []
  },
  {
   "cell_type": "markdown",
   "id": "68fc2692",
   "metadata": {
    "hidden": true
   },
   "source": []
  },
  {
   "cell_type": "markdown",
   "id": "7ef7d149",
   "metadata": {
    "hidden": true
   },
   "source": []
  },
  {
   "cell_type": "markdown",
   "id": "63e9d442",
   "metadata": {
    "hidden": true
   },
   "source": []
  },
  {
   "cell_type": "code",
   "execution_count": null,
   "id": "47859b5e",
   "metadata": {
    "hidden": true
   },
   "outputs": [],
   "source": []
  }
 ],
 "metadata": {
  "kernelspec": {
   "display_name": "Python 3 (ipykernel)",
   "language": "python",
   "name": "python3"
  },
  "language_info": {
   "codemirror_mode": {
    "name": "ipython",
    "version": 3
   },
   "file_extension": ".py",
   "mimetype": "text/x-python",
   "name": "python",
   "nbconvert_exporter": "python",
   "pygments_lexer": "ipython3",
   "version": "3.9.7"
  }
 },
 "nbformat": 4,
 "nbformat_minor": 5
}
